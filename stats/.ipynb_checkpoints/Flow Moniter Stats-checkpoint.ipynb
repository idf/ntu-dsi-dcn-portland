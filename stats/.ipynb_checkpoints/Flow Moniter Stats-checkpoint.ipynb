{
 "cells": [
  {
   "cell_type": "code",
   "execution_count": 10,
   "metadata": {
    "collapsed": false
   },
   "outputs": [
    {
     "name": "stdout",
     "output_type": "stream",
     "text": [
      "/Users/Kuhn/Dropbox/Study/UCSD/CSE 291 Cloud Computing/projects/project1/workspace/ntu-dsi-dcn-portland/stats\n",
      "File name: BCube-k1-10s-1-1-1.xml\n"
     ]
    },
    {
     "ename": "NameError",
     "evalue": "global name 'np' is not defined",
     "output_type": "error",
     "traceback": [
      "\u001b[0;31m---------------------------------------------------------------------------\u001b[0m",
      "\u001b[0;31mNameError\u001b[0m                                 Traceback (most recent call last)",
      "\u001b[0;32m<ipython-input-10-7188768cf298>\u001b[0m in \u001b[0;36m<module>\u001b[0;34m()\u001b[0m\n\u001b[1;32m     58\u001b[0m         \u001b[0;32mprint\u001b[0m \u001b[0;34m\"File name:\"\u001b[0m\u001b[0;34m,\u001b[0m \u001b[0mxml_file\u001b[0m\u001b[0;34m\u001b[0m\u001b[0m\n\u001b[1;32m     59\u001b[0m         \u001b[0mflow_list\u001b[0m \u001b[0;34m=\u001b[0m \u001b[0manalyze\u001b[0m\u001b[0;34m(\u001b[0m\u001b[0mpath\u001b[0m \u001b[0;34m+\u001b[0m \u001b[0mxml_file\u001b[0m\u001b[0;34m)\u001b[0m\u001b[0;34m\u001b[0m\u001b[0m\n\u001b[0;32m---> 60\u001b[0;31m         \u001b[0mresult\u001b[0m \u001b[0;34m=\u001b[0m \u001b[0msummarize\u001b[0m\u001b[0;34m(\u001b[0m\u001b[0mflow_list\u001b[0m\u001b[0;34m)\u001b[0m\u001b[0;34m\u001b[0m\u001b[0m\n\u001b[0m\u001b[1;32m     61\u001b[0m         \u001b[0;32mprint\u001b[0m \u001b[0mresult\u001b[0m\u001b[0;34m\u001b[0m\u001b[0m\n\u001b[1;32m     62\u001b[0m \u001b[0;34m\u001b[0m\u001b[0m\n",
      "\u001b[0;32m<ipython-input-10-7188768cf298>\u001b[0m in \u001b[0;36msummarize\u001b[0;34m(flow_list)\u001b[0m\n\u001b[1;32m     46\u001b[0m     \u001b[0mresult\u001b[0m\u001b[0;34m[\u001b[0m\u001b[0;34m\"avg_byte\"\u001b[0m\u001b[0;34m]\u001b[0m \u001b[0;34m=\u001b[0m \u001b[0msum\u001b[0m\u001b[0;34m(\u001b[0m\u001b[0;34m[\u001b[0m\u001b[0mflow\u001b[0m\u001b[0;34m[\u001b[0m\u001b[0;34m\"tx_byte\"\u001b[0m\u001b[0;34m]\u001b[0m \u001b[0;32mfor\u001b[0m \u001b[0mflow\u001b[0m \u001b[0;32min\u001b[0m \u001b[0mflow_list\u001b[0m\u001b[0;34m]\u001b[0m\u001b[0;34m)\u001b[0m \u001b[0;34m/\u001b[0m \u001b[0mflow_num\u001b[0m\u001b[0;34m\u001b[0m\u001b[0m\n\u001b[1;32m     47\u001b[0m     \u001b[0mresult\u001b[0m\u001b[0;34m[\u001b[0m\u001b[0;34m\"avg_tx_time\"\u001b[0m\u001b[0;34m]\u001b[0m \u001b[0;34m=\u001b[0m \u001b[0msum\u001b[0m\u001b[0;34m(\u001b[0m\u001b[0;34m[\u001b[0m\u001b[0mflow\u001b[0m\u001b[0;34m[\u001b[0m\u001b[0;34m\"time_tx_packet\"\u001b[0m\u001b[0;34m]\u001b[0m \u001b[0;32mfor\u001b[0m \u001b[0mflow\u001b[0m \u001b[0;32min\u001b[0m \u001b[0mflow_list\u001b[0m\u001b[0;34m]\u001b[0m\u001b[0;34m)\u001b[0m \u001b[0;34m/\u001b[0m \u001b[0mflow_num\u001b[0m\u001b[0;34m\u001b[0m\u001b[0m\n\u001b[0;32m---> 48\u001b[0;31m     \u001b[0mresult\u001b[0m\u001b[0;34m[\u001b[0m\u001b[0;34m\"tx_time_std\"\u001b[0m\u001b[0;34m]\u001b[0m \u001b[0;34m=\u001b[0m \u001b[0mnp\u001b[0m\u001b[0;34m.\u001b[0m\u001b[0mstd\u001b[0m\u001b[0;34m(\u001b[0m\u001b[0;34m[\u001b[0m\u001b[0mflow\u001b[0m\u001b[0;34m[\u001b[0m\u001b[0;34m\"time_tx_packet\"\u001b[0m\u001b[0;34m]\u001b[0m \u001b[0;32mfor\u001b[0m \u001b[0mflow\u001b[0m \u001b[0;32min\u001b[0m \u001b[0mflow_list\u001b[0m\u001b[0;34m]\u001b[0m\u001b[0;34m)\u001b[0m\u001b[0;34m\u001b[0m\u001b[0m\n\u001b[0m\u001b[1;32m     49\u001b[0m     \u001b[0mresult\u001b[0m\u001b[0;34m[\u001b[0m\u001b[0;34m\"avg_rx_time\"\u001b[0m\u001b[0;34m]\u001b[0m \u001b[0;34m=\u001b[0m \u001b[0msum\u001b[0m\u001b[0;34m(\u001b[0m\u001b[0;34m[\u001b[0m\u001b[0mflow\u001b[0m\u001b[0;34m[\u001b[0m\u001b[0;34m\"time_rx_packet\"\u001b[0m\u001b[0;34m]\u001b[0m \u001b[0;32mfor\u001b[0m \u001b[0mflow\u001b[0m \u001b[0;32min\u001b[0m \u001b[0mflow_list\u001b[0m\u001b[0;34m]\u001b[0m\u001b[0;34m)\u001b[0m \u001b[0;34m/\u001b[0m \u001b[0mflow_num\u001b[0m\u001b[0;34m\u001b[0m\u001b[0m\n\u001b[1;32m     50\u001b[0m     \u001b[0mresult\u001b[0m\u001b[0;34m[\u001b[0m\u001b[0;34m\"rx_time_std\"\u001b[0m\u001b[0;34m]\u001b[0m \u001b[0;34m=\u001b[0m \u001b[0mnp\u001b[0m\u001b[0;34m.\u001b[0m\u001b[0mstd\u001b[0m\u001b[0;34m(\u001b[0m\u001b[0;34m[\u001b[0m\u001b[0mflow\u001b[0m\u001b[0;34m[\u001b[0m\u001b[0;34m\"time_rx_packet\"\u001b[0m\u001b[0;34m]\u001b[0m \u001b[0;32mfor\u001b[0m \u001b[0mflow\u001b[0m \u001b[0;32min\u001b[0m \u001b[0mflow_list\u001b[0m\u001b[0;34m]\u001b[0m\u001b[0;34m)\u001b[0m\u001b[0;34m\u001b[0m\u001b[0m\n",
      "\u001b[0;31mNameError\u001b[0m: global name 'np' is not defined"
     ]
    }
   ],
   "source": [
    "import numpy as np\n",
    "import xml.etree.ElementTree as ET\n",
    "\n",
    "!pwd\n",
    "\n",
    "path = \"../statistics/\"\n",
    "xml_file_list = [\"BCube-k1-10s-1-1-1.xml\",\n",
    "                 \"BCube-k1-10s-0.5-1-1.xml\",\n",
    "                 \"BCube-k1-10s-0.25-1-1.xml\",\n",
    "                 \"BCube-k1-10s-0.125-1-1.xml\",\n",
    "                 \"BCube-k1-10s-1-2-1.xml\",\n",
    "                 \"BCube-k1-10s-1-4-1.xml\",\n",
    "                 \"BCube-k1-10s-1-8-1.xml\",\n",
    "                 \"BCube-k1-10s-1-1-2.xml\",\n",
    "                 \"BCube-k1-10s-1-1-4.xml\",\n",
    "                 \"BCube-k1-10s-1-1-8.xml\",\n",
    "                ]\n",
    "\n",
    "def analyze(file_path):\n",
    "    data_list = []\n",
    "    \n",
    "    # Read file.\n",
    "    tree = ET.parse(file_path)\n",
    "    root = tree.getroot()\n",
    "    flow_stats = root[0]\n",
    "    \n",
    "    # Loop all flow.\n",
    "    for flow in flow_stats:\n",
    "        data = {}\n",
    "        data[\"flow_id\"] = flow.attrib[\"flowId\"]\n",
    "        data[\"tx_byte\"] = float(flow.attrib[\"txBytes\"])\n",
    "        data[\"lost_packet\"] = int(flow.attrib[\"lostPackets\"])\n",
    "        data[\"time_tx_packet\"] = \\\n",
    "            float(flow.attrib[\"timeLastTxPacket\"][:-2]) - float(flow.attrib[\"timeFirstTxPacket\"][:-2])\n",
    "        data[\"time_rx_packet\"] = \\\n",
    "            float(flow.attrib[\"timeLastRxPacket\"][:-2]) - float(flow.attrib[\"timeFirstRxPacket\"][:-2])\n",
    "        \n",
    "        data_list.append(data)\n",
    "    \n",
    "    return data_list\n",
    "    \n",
    "    \n",
    "def summarize(flow_list):\n",
    "    result = {}\n",
    "    flow_num = len(flow_list)\n",
    "    result[\"flow_num\"] = flow_num\n",
    "    result[\"avg_byte\"] = sum([flow[\"tx_byte\"] for flow in flow_list]) / flow_num\n",
    "    result[\"avg_tx_time\"] = sum([flow[\"time_tx_packet\"] for flow in flow_list]) / flow_num\n",
    "    result[\"tx_time_std\"] = np.std([flow[\"time_tx_packet\"] for flow in flow_list])\n",
    "    result[\"avg_rx_time\"] = sum([flow[\"time_rx_packet\"] for flow in flow_list]) / flow_num\n",
    "    result[\"rx_time_std\"] = np.std([flow[\"time_rx_packet\"] for flow in flow_list])\n",
    "    result[\"total_lost\"] = sum(flow[\"lost_packet\"] for flow in flow_list)\n",
    "    \n",
    "    return result\n",
    "    \n",
    "\n",
    "if __name__ == \"__main__\":\n",
    "    for xml_file in xml_file_list:\n",
    "        print \"File name:\", xml_file \n",
    "        flow_list = analyze(path + xml_file)\n",
    "        result = summarize(flow_list)\n",
    "        print result\n",
    "        \n",
    "    "
   ]
  },
  {
   "cell_type": "code",
   "execution_count": null,
   "metadata": {
    "collapsed": true
   },
   "outputs": [],
   "source": []
  }
 ],
 "metadata": {
  "kernelspec": {
   "display_name": "Python 2",
   "language": "python",
   "name": "python2"
  },
  "language_info": {
   "codemirror_mode": {
    "name": "ipython",
    "version": 2
   },
   "file_extension": ".py",
   "mimetype": "text/x-python",
   "name": "python",
   "nbconvert_exporter": "python",
   "pygments_lexer": "ipython2",
   "version": "2.7.12"
  }
 },
 "nbformat": 4,
 "nbformat_minor": 1
}
