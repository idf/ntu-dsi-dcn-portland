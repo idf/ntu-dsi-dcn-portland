{
 "cells": [
  {
   "cell_type": "code",
   "execution_count": 4,
   "metadata": {
    "collapsed": false
   },
   "outputs": [
    {
     "name": "stdout",
     "output_type": "stream",
     "text": [
      "/Users/Kuhn/Dropbox/Study/UCSD/CSE 291 Cloud Computing/projects/project1/workspace/ntu-dsi-dcn-portland/stats\n",
      "File name: Fat-tree.xml\n",
      "{'avg_tx_time': 98420519459.4375, 'tx_time_std': 1525135317.5563493, 'flow_num': 16, 'total_lost': 0, 'avg_rx_time': 98420516670.9375, 'rx_time_std': 1525133633.7767444, 'avg_byte': 6320021.5}\n",
      "File name: Fat-tree-Bilal.xml\n",
      "{'avg_tx_time': 98420519459.4375, 'tx_time_std': 1525135317.5563493, 'flow_num': 16, 'total_lost': 0, 'avg_rx_time': 98420516670.9375, 'rx_time_std': 1525133633.7767444, 'avg_byte': 6320021.5}\n",
      "File name: Fat-tree-AlFares.xml\n",
      "{'avg_tx_time': 5802644.0, 'tx_time_std': 0.0, 'flow_num': 16, 'total_lost': 0, 'avg_rx_time': 5799728.5, 'rx_time_std': 3088.8466698753437, 'avg_byte': 72588.0}\n",
      "File name: BCube.xml\n",
      "{'avg_tx_time': 98541666699.64062, 'tx_time_std': 1542753729.0118563, 'flow_num': 64, 'total_lost': 0, 'avg_rx_time': 98541660287.14062, 'rx_time_std': 1542753220.9924941, 'avg_byte': 6324130.875}\n",
      "File name: Three-Tier.xml\n",
      "{'avg_tx_time': 98239481186.875, 'tx_time_std': 1419294298.6628942, 'flow_num': 16, 'total_lost': 0, 'avg_rx_time': 98239477901.125, 'rx_time_std': 1419292770.4891295, 'avg_byte': 6246052.75}\n",
      "File name: Three-tier2.xml\n",
      "{'avg_tx_time': 98647680079.0, 'tx_time_std': 1728598837.2426653, 'flow_num': 16, 'total_lost': 0, 'avg_rx_time': 98647677040.5, 'rx_time_std': 1728597491.017915, 'avg_byte': 6255981.0}\n"
     ]
    }
   ],
   "source": [
    "\n",
    "\n",
    "import xml.etree.ElementTree as ET\n",
    "import numpy as np\n",
    "\n",
    "!pwd\n",
    "\n",
    "path = \"../statistics/\"\n",
    "xml_file_list = [\"statistics/Portland-1-1-1.xml\",\n",
    "                 \"statistics/Portland-0.5-1-1.xml\",\n",
    "                 \"statistics/Portland-0.25-1-1.xml\",\n",
    "                 \"statistics/Portland-0.125-1-1.xml\",\n",
    "                 \"statistics/Portland-1-2-1.xml\",\n",
    "                 \"statistics/Portland-1-4-1.xml\",\n",
    "                 \"statistics/Portland-1-8-1.xml\",\n",
    "                 \"statistics/Portland-1-1-2.xml\",\n",
    "                 \"statistics/Portland-1-1-4.xml\",\n",
    "                 \"statistics/Portland-1-1-8.xml\",]\n",
    "\n",
    "def analyze(file_path):\n",
    "    data_list = []\n",
    "    \n",
    "    # Read file.\n",
    "    tree = ET.parse(file_path)\n",
    "    root = tree.getroot()\n",
    "    flow_stats = root[0]\n",
    "    \n",
    "    # Loop all flow.\n",
    "    for flow in flow_stats:\n",
    "        data = {}\n",
    "        data[\"flow_id\"] = flow.attrib[\"flowId\"]\n",
    "        data[\"tx_byte\"] = float(flow.attrib[\"txBytes\"])\n",
    "        data[\"lost_packet\"] = int(flow.attrib[\"lostPackets\"])\n",
    "        data[\"time_tx_packet\"] = \\\n",
    "            float(flow.attrib[\"timeLastTxPacket\"][:-2]) - float(flow.attrib[\"timeFirstTxPacket\"][:-2])\n",
    "        data[\"time_rx_packet\"] = \\\n",
    "            float(flow.attrib[\"timeLastRxPacket\"][:-2]) - float(flow.attrib[\"timeFirstRxPacket\"][:-2])\n",
    "        \n",
    "        data_list.append(data)\n",
    "    \n",
    "    return data_list\n",
    "    \n",
    "    \n",
    "def summarize(flow_list):\n",
    "    result = {}\n",
    "    flow_num = len(flow_list)\n",
    "    result[\"flow_num\"] = flow_num\n",
    "    result[\"avg_byte\"] = sum([flow[\"tx_byte\"] for flow in flow_list]) / flow_num\n",
    "    result[\"avg_tx_time\"] = sum([flow[\"time_tx_packet\"] for flow in flow_list]) / flow_num\n",
    "    result[\"tx_time_std\"] = np.std([flow[\"time_tx_packet\"] for flow in flow_list])\n",
    "    result[\"avg_rx_time\"] = sum([flow[\"time_rx_packet\"] for flow in flow_list]) / flow_num\n",
    "    result[\"rx_time_std\"] = np.std([flow[\"time_rx_packet\"] for flow in flow_list])\n",
    "    result[\"total_lost\"] = sum(flow[\"lost_packet\"] for flow in flow_list)\n",
    "    \n",
    "    return result\n",
    "    \n",
    "\n",
    "if __name__ == \"__main__\":\n",
    "    for xml_file in xml_file_list:\n",
    "        print \"File name:\", xml_file \n",
    "        flow_list = analyze(path + xml_file)\n",
    "        result = summarize(flow_list)\n",
    "        print result\n",
    "        \n",
    "    "
   ]
  },
  {
   "cell_type": "code",
   "execution_count": null,
   "metadata": {
    "collapsed": true
   },
   "outputs": [],
   "source": []
  }
 ],
 "metadata": {
  "kernelspec": {
   "display_name": "Python 2",
   "language": "python",
   "name": "python2"
  },
  "language_info": {
   "codemirror_mode": {
    "name": "ipython",
    "version": 2
   },
   "file_extension": ".py",
   "mimetype": "text/x-python",
   "name": "python",
   "nbconvert_exporter": "python",
   "pygments_lexer": "ipython2",
   "version": "2.7.12"
  }
 },
 "nbformat": 4,
 "nbformat_minor": 1
}
