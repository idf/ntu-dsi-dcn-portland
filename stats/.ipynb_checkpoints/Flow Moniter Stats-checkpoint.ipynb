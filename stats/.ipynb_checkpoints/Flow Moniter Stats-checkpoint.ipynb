{
 "cells": [
  {
   "cell_type": "code",
   "execution_count": 22,
   "metadata": {
    "collapsed": false
   },
   "outputs": [
    {
     "name": "stdout",
     "output_type": "stream",
     "text": [
      "/Users/Kuhn/Dropbox/Study/UCSD/CSE 291 Cloud Computing/projects/project1/workspace/ntu-dsi-dcn-portland/stats\n",
      "File name: Three-tier2-10s-1-1-1.xml\n",
      "{'avg_tx_time': 8903407217.9375, 'tx_time_std': 1120232058.4849615, 'flow_num': 16, 'total_lost': 0, 'avg_rx_time': 8903403679.4375, 'rx_time_std': 1120230120.4338911, 'avg_byte': 595103.25}\n",
      "File name: Three-tier2-10s-0.5-1-1.xml\n",
      "{'avg_tx_time': 8910318810.125, 'tx_time_std': 1119849001.0638173, 'flow_num': 16, 'total_lost': 0, 'avg_rx_time': 8910315271.625, 'rx_time_std': 1119847062.0028217, 'avg_byte': 611313.75}\n",
      "File name: Three-tier2-10s-0.25-1-1.xml\n",
      "{'avg_tx_time': 8913389682.125, 'tx_time_std': 1119691350.2917693, 'flow_num': 16, 'total_lost': 0, 'avg_rx_time': 8913386143.625, 'rx_time_std': 1119689411.4202442, 'avg_byte': 643153.5}\n",
      "File name: Three-tier2-10s-0.125-1-1.xml\n",
      "{'avg_tx_time': 8891461640.5625, 'tx_time_std': 1113685079.2826912, 'flow_num': 16, 'total_lost': 0, 'avg_rx_time': 8891458102.0625, 'rx_time_std': 1113683054.014369, 'avg_byte': 690553.5}\n",
      "File name: Three-tier2-10s-1-2-1.xml\n",
      "{'avg_tx_time': 8910317716.25, 'tx_time_std': 1119848699.3485858, 'flow_num': 16, 'total_lost': 0, 'avg_rx_time': 8910314177.75, 'rx_time_std': 1119846760.2875621, 'avg_byte': 1190929.75}\n",
      "File name: Three-tier2-10s-1-4-1.xml\n",
      "{'avg_tx_time': 8913388104.25, 'tx_time_std': 1119691038.2622106, 'flow_num': 16, 'total_lost': 0, 'avg_rx_time': 8913384565.75, 'rx_time_std': 1119689099.3905196, 'avg_byte': 2382385.5}\n",
      "File name: Three-tier2-10s-1-8-1.xml\n",
      "{'avg_tx_time': 8914985543.25, 'tx_time_std': 1119987698.1172652, 'flow_num': 16, 'total_lost': 0, 'avg_rx_time': 8914981567.25, 'rx_time_std': 1119986841.7715774, 'avg_byte': 4765362.75}\n",
      "File name: Three-tier2-10s-1-16-1.xml\n",
      "{'avg_tx_time': 8860343538.0625, 'tx_time_std': 1223664199.2555864, 'flow_num': 16, 'total_lost': 0, 'avg_rx_time': 8860339627.5625, 'rx_time_std': 1223663702.671001, 'avg_byte': 9706804.0}\n"
     ]
    }
   ],
   "source": [
    "import numpy as np\n",
    "import xml.etree.ElementTree as ET\n",
    "\n",
    "!pwd\n",
    "\n",
    "path = \"../statistics/\"\n",
    "xml_file_list = [\"Three-tier2-10s-1-1-1.xml\",\n",
    "                 \"Three-tier2-10s-0.5-1-1.xml\",\n",
    "                 \"Three-tier2-10s-0.25-1-1.xml\",\n",
    "                 \"Three-tier2-10s-0.125-1-1.xml\",\n",
    "                 \"Three-tier2-10s-1-2-1.xml\",\n",
    "                 \"Three-tier2-10s-1-4-1.xml\",\n",
    "                 \"Three-tier2-10s-1-8-1.xml\",\n",
    "                 \"Three-tier2-10s-1-1-2.xml\",\n",
    "                 \"Three-tier2-10s-1-1-4.xml\",\n",
    "                 \"Three-tier2-10s-1-1-8.xml\",\n",
    "                 \n",
    "                 ]\n",
    "\n",
    "def analyze(file_path):\n",
    "    data_list = []\n",
    "    \n",
    "    # Read file.\n",
    "    tree = ET.parse(file_path)\n",
    "    root = tree.getroot()\n",
    "    flow_stats = root[0]\n",
    "    \n",
    "    # Loop all flow.\n",
    "    for flow in flow_stats:\n",
    "        data = {}\n",
    "        data[\"flow_id\"] = flow.attrib[\"flowId\"]\n",
    "        data[\"tx_byte\"] = float(flow.attrib[\"txBytes\"])\n",
    "        data[\"lost_packet\"] = int(flow.attrib[\"lostPackets\"])\n",
    "        data[\"time_tx_packet\"] = \\\n",
    "            float(flow.attrib[\"timeLastTxPacket\"][:-2]) - float(flow.attrib[\"timeFirstTxPacket\"][:-2])\n",
    "        data[\"time_rx_packet\"] = \\\n",
    "            float(flow.attrib[\"timeLastRxPacket\"][:-2]) - float(flow.attrib[\"timeFirstRxPacket\"][:-2])\n",
    "        \n",
    "        data_list.append(data)\n",
    "    \n",
    "    return data_list\n",
    "    \n",
    "    \n",
    "def summarize(flow_list):\n",
    "    result = {}\n",
    "    flow_num = len(flow_list)\n",
    "    result[\"flow_num\"] = flow_num\n",
    "    result[\"avg_byte\"] = sum([flow[\"tx_byte\"] for flow in flow_list]) / flow_num\n",
    "    result[\"avg_tx_time\"] = sum([flow[\"time_tx_packet\"] for flow in flow_list]) / flow_num\n",
    "    result[\"tx_time_std\"] = np.std([flow[\"time_tx_packet\"] for flow in flow_list])\n",
    "    result[\"avg_rx_time\"] = sum([flow[\"time_rx_packet\"] for flow in flow_list]) / flow_num\n",
    "    result[\"rx_time_std\"] = np.std([flow[\"time_rx_packet\"] for flow in flow_list])\n",
    "    result[\"total_lost\"] = sum(flow[\"lost_packet\"] for flow in flow_list)\n",
    "    \n",
    "    return result\n",
    "    \n",
    "\n",
    "if __name__ == \"__main__\":\n",
    "    for xml_file in xml_file_list:\n",
    "        print \"File name:\", xml_file \n",
    "        flow_list = analyze(path + xml_file)\n",
    "        result = summarize(flow_list)\n",
    "        print result\n",
    "        \n",
    "    "
   ]
  },
  {
   "cell_type": "code",
   "execution_count": null,
   "metadata": {
    "collapsed": true
   },
   "outputs": [],
   "source": []
  }
 ],
 "metadata": {
  "kernelspec": {
   "display_name": "Python 2",
   "language": "python",
   "name": "python2"
  },
  "language_info": {
   "codemirror_mode": {
    "name": "ipython",
    "version": 2
   },
   "file_extension": ".py",
   "mimetype": "text/x-python",
   "name": "python",
   "nbconvert_exporter": "python",
   "pygments_lexer": "ipython2",
   "version": "2.7.12"
  }
 },
 "nbformat": 4,
 "nbformat_minor": 1
}
