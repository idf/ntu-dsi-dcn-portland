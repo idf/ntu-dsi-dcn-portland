{
 "cells": [
  {
   "cell_type": "code",
   "execution_count": 57,
   "metadata": {
    "collapsed": false
   },
   "outputs": [
    {
     "name": "stdout",
     "output_type": "stream",
     "text": [
      "{'avg_rx_time': 148539998969.5, 'flow_num': 16, 'avg_tx_time': 148540002508.0, 'avg_byte': 9667551.25, 'total_lost': 0}\n",
      "{'avg_rx_time': 98420516670.9375, 'flow_num': 16, 'avg_tx_time': 98420519459.4375, 'avg_byte': 6320021.5, 'total_lost': 0}\n",
      "{'avg_rx_time': 5799728.5, 'flow_num': 16, 'avg_tx_time': 5802644.0, 'avg_byte': 72588.0, 'total_lost': 0}\n",
      "{'avg_rx_time': 98541660287.14062, 'flow_num': 64, 'avg_tx_time': 98541666699.64062, 'avg_byte': 6324130.875, 'total_lost': 0}\n"
     ]
    }
   ],
   "source": [
    "import xml.etree.ElementTree as ET\n",
    "\n",
    "path = \"../statistics/\"\n",
    "xml_file_list = [\"Fat-tree.xml\", \"Fat-tree-Bilal.xml\", \"Fat-tree-AlFares.xml\", \"BCube.xml\"]\n",
    "\n",
    "def analyze(file_path):\n",
    "    data_list = []\n",
    "    \n",
    "    # Read file.\n",
    "    tree = ET.parse(file_path)\n",
    "    root = tree.getroot()\n",
    "    flow_stats = root[0]\n",
    "    \n",
    "    # Loop all flow.\n",
    "    for flow in flow_stats:\n",
    "        data = {}\n",
    "        data[\"flow_id\"] = flow.attrib[\"flowId\"]\n",
    "        data[\"tx_byte\"] = float(flow.attrib[\"txBytes\"])\n",
    "        data[\"lost_packet\"] = int(flow.attrib[\"lostPackets\"])\n",
    "        data[\"time_tx_packet\"] = \\\n",
    "            float(flow.attrib[\"timeLastTxPacket\"][:-2]) - float(flow.attrib[\"timeFirstTxPacket\"][:-2])\n",
    "        data[\"time_rx_packet\"] = \\\n",
    "            float(flow.attrib[\"timeLastRxPacket\"][:-2]) - float(flow.attrib[\"timeFirstRxPacket\"][:-2])\n",
    "        \n",
    "        data_list.append(data)\n",
    "    \n",
    "    return data_list\n",
    "    \n",
    "    \n",
    "def summarize(flow_list):\n",
    "    result = {}\n",
    "    flow_num = len(flow_list)\n",
    "    result[\"flow_num\"] = flow_num\n",
    "    result[\"avg_byte\"] = sum([flow[\"tx_byte\"] for flow in flow_list]) / flow_num\n",
    "    result[\"avg_tx_time\"] = sum([flow[\"time_tx_packet\"] for flow in flow_list]) / flow_num\n",
    "    result[\"avg_rx_time\"] = sum([flow[\"time_rx_packet\"] for flow in flow_list]) / flow_num\n",
    "    result[\"total_lost\"] = sum(flow[\"lost_packet\"] for flow in flow_list)\n",
    "    \n",
    "    return result\n",
    "    \n",
    "\n",
    "if __name__ == \"__main__\":\n",
    "    for xml_file in xml_file_list:\n",
    "        flow_list = analyze(path + xml_file)\n",
    "        result = summarize(flow_list)\n",
    "        print result\n",
    "        \n",
    "    "
   ]
  }
 ],
 "metadata": {
  "kernelspec": {
   "display_name": "Python 2",
   "language": "python",
   "name": "python2"
  },
  "language_info": {
   "codemirror_mode": {
    "name": "ipython",
    "version": 2
   },
   "file_extension": ".py",
   "mimetype": "text/x-python",
   "name": "python",
   "nbconvert_exporter": "python",
   "pygments_lexer": "ipython2",
   "version": "2.7.6"
  }
 },
 "nbformat": 4,
 "nbformat_minor": 1
}
